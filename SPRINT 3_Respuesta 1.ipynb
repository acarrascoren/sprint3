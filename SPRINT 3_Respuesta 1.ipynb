{
 "cells": [
  {
   "cell_type": "code",
   "execution_count": 1,
   "id": "4c6c10d0",
   "metadata": {},
   "outputs": [],
   "source": [
    "import pandas as pd\n",
    "import requests"
   ]
  },
  {
   "cell_type": "code",
   "execution_count": 2,
   "id": "3fffc14a",
   "metadata": {},
   "outputs": [],
   "source": [
    "url = 'https://es.finance.yahoo.com/quote/TEF/history?p=TEF&.tsrc=fin-srch&guccounter=1'\n",
    "r = requests.get(url,headers ={'User-Agent':'Mozilla/5.0 (Windows NT 10.0; Win64; x64) AppleWebKit/537.36 (KHTML, like Gecko) Chrome/91.0.4472.124 Safari/537.36'})\n",
    "df = pd.read_html(r.text)[0]\n",
    "col_lista=list(df.columns)"
   ]
  },
  {
   "cell_type": "code",
   "execution_count": 3,
   "id": "2c185230",
   "metadata": {},
   "outputs": [
    {
     "data": {
      "text/plain": [
       "['Fecha', 'Abrir', 'Máx.', 'Mín.', 'Cierre*', 'Cierre ajus.**', 'Volumen']"
      ]
     },
     "execution_count": 3,
     "metadata": {},
     "output_type": "execute_result"
    }
   ],
   "source": [
    "col_lista"
   ]
  },
  {
   "cell_type": "code",
   "execution_count": 4,
   "id": "5654b135",
   "metadata": {},
   "outputs": [],
   "source": [
    "col_num=[col_lista[0],col_lista[1]]"
   ]
  },
  {
   "cell_type": "code",
   "execution_count": 5,
   "id": "32d9635e",
   "metadata": {},
   "outputs": [
    {
     "data": {
      "text/plain": [
       "Fecha    object\n",
       "Abrir    object\n",
       "dtype: object"
      ]
     },
     "execution_count": 5,
     "metadata": {},
     "output_type": "execute_result"
    }
   ],
   "source": [
    "Data_num=df[col_num]\n",
    "Data_num.dtypes"
   ]
  },
  {
   "cell_type": "code",
   "execution_count": 6,
   "id": "3b5a5c51",
   "metadata": {},
   "outputs": [
    {
     "name": "stderr",
     "output_type": "stream",
     "text": [
      "C:\\Users\\acarrasco\\AppData\\Local\\Temp\\ipykernel_13208\\3481663567.py:1: SettingWithCopyWarning: \n",
      "A value is trying to be set on a copy of a slice from a DataFrame.\n",
      "Try using .loc[row_indexer,col_indexer] = value instead\n",
      "\n",
      "See the caveats in the documentation: https://pandas.pydata.org/pandas-docs/stable/user_guide/indexing.html#returning-a-view-versus-a-copy\n",
      "  Data_num['Abrir'] = pd.to_numeric(Data_num['Abrir'],errors='coerce')\n"
     ]
    }
   ],
   "source": [
    "Data_num['Abrir'] = pd.to_numeric(Data_num['Abrir'],errors='coerce')"
   ]
  },
  {
   "cell_type": "code",
   "execution_count": 7,
   "id": "a899ddaf",
   "metadata": {},
   "outputs": [
    {
     "data": {
      "text/plain": [
       "Fecha     object\n",
       "Abrir    float64\n",
       "dtype: object"
      ]
     },
     "execution_count": 7,
     "metadata": {},
     "output_type": "execute_result"
    }
   ],
   "source": [
    "Data_num.dtypes"
   ]
  },
  {
   "cell_type": "code",
   "execution_count": 8,
   "id": "00fe8098",
   "metadata": {},
   "outputs": [],
   "source": [
    "valueMax = Data_num['Abrir'].max()\n",
    "ValueMin = Data_num['Abrir'].min()"
   ]
  },
  {
   "cell_type": "code",
   "execution_count": 9,
   "id": "b2da27a6",
   "metadata": {},
   "outputs": [],
   "source": [
    "#dff=dfcol[(dfcol['payment_type']=='Cash') & (dfcol['trip_total'].between(20,44))].groupby(['taxi_id']).sum()\n",
    "df2= Data_num[(Data_num['Abrir']==valueMax)]\n",
    "df3= Data_num[(Data_num['Abrir']==ValueMin)]"
   ]
  },
  {
   "cell_type": "code",
   "execution_count": 10,
   "id": "cabd4272",
   "metadata": {},
   "outputs": [
    {
     "name": "stdout",
     "output_type": "stream",
     "text": [
      "Día y valor en el cual la apertura es el máximo\n"
     ]
    },
    {
     "data": {
      "text/html": [
       "<div>\n",
       "<style scoped>\n",
       "    .dataframe tbody tr th:only-of-type {\n",
       "        vertical-align: middle;\n",
       "    }\n",
       "\n",
       "    .dataframe tbody tr th {\n",
       "        vertical-align: top;\n",
       "    }\n",
       "\n",
       "    .dataframe thead th {\n",
       "        text-align: right;\n",
       "    }\n",
       "</style>\n",
       "<table border=\"1\" class=\"dataframe\">\n",
       "  <thead>\n",
       "    <tr style=\"text-align: right;\">\n",
       "      <th></th>\n",
       "      <th>Fecha</th>\n",
       "      <th>Abrir</th>\n",
       "    </tr>\n",
       "  </thead>\n",
       "  <tbody>\n",
       "    <tr>\n",
       "      <th>81</th>\n",
       "      <td>31 may 2022</td>\n",
       "      <td>53400.0</td>\n",
       "    </tr>\n",
       "  </tbody>\n",
       "</table>\n",
       "</div>"
      ],
      "text/plain": [
       "          Fecha    Abrir\n",
       "81  31 may 2022  53400.0"
      ]
     },
     "execution_count": 10,
     "metadata": {},
     "output_type": "execute_result"
    }
   ],
   "source": [
    "print('Día y valor en el cual la apertura es el máximo')\n",
    "df2.head()\n"
   ]
  },
  {
   "cell_type": "code",
   "execution_count": 11,
   "id": "63f2cea7",
   "metadata": {},
   "outputs": [
    {
     "name": "stdout",
     "output_type": "stream",
     "text": [
      "Día y valor en el cual el valor es el mínimo\n"
     ]
    },
    {
     "data": {
      "text/html": [
       "<div>\n",
       "<style scoped>\n",
       "    .dataframe tbody tr th:only-of-type {\n",
       "        vertical-align: middle;\n",
       "    }\n",
       "\n",
       "    .dataframe tbody tr th {\n",
       "        vertical-align: top;\n",
       "    }\n",
       "\n",
       "    .dataframe thead th {\n",
       "        text-align: right;\n",
       "    }\n",
       "</style>\n",
       "<table border=\"1\" class=\"dataframe\">\n",
       "  <thead>\n",
       "    <tr style=\"text-align: right;\">\n",
       "      <th></th>\n",
       "      <th>Fecha</th>\n",
       "      <th>Abrir</th>\n",
       "    </tr>\n",
       "  </thead>\n",
       "  <tbody>\n",
       "    <tr>\n",
       "      <th>0</th>\n",
       "      <td>23 sept 2022</td>\n",
       "      <td>35100.0</td>\n",
       "    </tr>\n",
       "  </tbody>\n",
       "</table>\n",
       "</div>"
      ],
      "text/plain": [
       "          Fecha    Abrir\n",
       "0  23 sept 2022  35100.0"
      ]
     },
     "execution_count": 11,
     "metadata": {},
     "output_type": "execute_result"
    }
   ],
   "source": [
    "print('Día y valor en el cual el valor es el mínimo')\n",
    "df3.head()"
   ]
  },
  {
   "cell_type": "code",
   "execution_count": null,
   "id": "6af07082",
   "metadata": {},
   "outputs": [],
   "source": []
  }
 ],
 "metadata": {
  "kernelspec": {
   "display_name": "Python 3 (ipykernel)",
   "language": "python",
   "name": "python3"
  },
  "language_info": {
   "codemirror_mode": {
    "name": "ipython",
    "version": 3
   },
   "file_extension": ".py",
   "mimetype": "text/x-python",
   "name": "python",
   "nbconvert_exporter": "python",
   "pygments_lexer": "ipython3",
   "version": "3.9.12"
  }
 },
 "nbformat": 4,
 "nbformat_minor": 5
}
