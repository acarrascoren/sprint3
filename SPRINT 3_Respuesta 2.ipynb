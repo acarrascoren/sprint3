{
 "cells": [
  {
   "cell_type": "code",
   "execution_count": 1,
   "id": "5db8756d",
   "metadata": {},
   "outputs": [],
   "source": [
    "import pandas as pd\n",
    "import requests"
   ]
  },
  {
   "cell_type": "code",
   "execution_count": 2,
   "id": "510c861e",
   "metadata": {},
   "outputs": [],
   "source": [
    "url = 'https://es.finance.yahoo.com/quote/TEF/history?p=TEF&.tsrc=fin-srch&guccounter=1'\n",
    "r = requests.get(url,headers ={'User-Agent':'Mozilla/5.0 (Windows NT 10.0; Win64; x64) AppleWebKit/537.36 (KHTML, like Gecko) Chrome/91.0.4472.124 Safari/537.36'})\n",
    "df = pd.read_html(r.text)[0]\n",
    "col_lista=list(df.columns)"
   ]
  },
  {
   "cell_type": "code",
   "execution_count": 3,
   "id": "5be2bdef",
   "metadata": {},
   "outputs": [
    {
     "data": {
      "text/plain": [
       "['Fecha', 'Abrir', 'Máx.', 'Mín.', 'Cierre*', 'Cierre ajus.**', 'Volumen']"
      ]
     },
     "execution_count": 3,
     "metadata": {},
     "output_type": "execute_result"
    }
   ],
   "source": [
    "col_lista"
   ]
  },
  {
   "cell_type": "code",
   "execution_count": 4,
   "id": "698f5f9a",
   "metadata": {},
   "outputs": [],
   "source": [
    "col_num=[col_lista[0],col_lista[4]]"
   ]
  },
  {
   "cell_type": "code",
   "execution_count": 5,
   "id": "c04dab71",
   "metadata": {},
   "outputs": [
    {
     "data": {
      "text/plain": [
       "Fecha      object\n",
       "Cierre*    object\n",
       "dtype: object"
      ]
     },
     "execution_count": 5,
     "metadata": {},
     "output_type": "execute_result"
    }
   ],
   "source": [
    "Data_num=df[col_num]\n",
    "Data_num.dtypes"
   ]
  },
  {
   "cell_type": "code",
   "execution_count": 6,
   "id": "b0168c30",
   "metadata": {},
   "outputs": [
    {
     "name": "stderr",
     "output_type": "stream",
     "text": [
      "C:\\Users\\acarrasco\\AppData\\Local\\Temp\\ipykernel_27228\\2910797001.py:1: SettingWithCopyWarning: \n",
      "A value is trying to be set on a copy of a slice from a DataFrame.\n",
      "Try using .loc[row_indexer,col_indexer] = value instead\n",
      "\n",
      "See the caveats in the documentation: https://pandas.pydata.org/pandas-docs/stable/user_guide/indexing.html#returning-a-view-versus-a-copy\n",
      "  Data_num['Cierre*'] = pd.to_numeric(Data_num['Cierre*'],errors='coerce')\n"
     ]
    }
   ],
   "source": [
    "Data_num['Cierre*'] = pd.to_numeric(Data_num['Cierre*'],errors='coerce')"
   ]
  },
  {
   "cell_type": "code",
   "execution_count": 7,
   "id": "a03c927b",
   "metadata": {},
   "outputs": [
    {
     "data": {
      "text/plain": [
       "Fecha       object\n",
       "Cierre*    float64\n",
       "dtype: object"
      ]
     },
     "execution_count": 7,
     "metadata": {},
     "output_type": "execute_result"
    }
   ],
   "source": [
    "Data_num.dtypes"
   ]
  },
  {
   "cell_type": "code",
   "execution_count": 8,
   "id": "fb7c488d",
   "metadata": {},
   "outputs": [],
   "source": [
    "valueMax = Data_num['Cierre*'].max()\n",
    "ValueMin = Data_num['Cierre*'].min()"
   ]
  },
  {
   "cell_type": "code",
   "execution_count": 9,
   "id": "895b60f5",
   "metadata": {},
   "outputs": [],
   "source": [
    "df2= Data_num[(Data_num['Cierre*']==valueMax)]\n",
    "df3= Data_num[(Data_num['Cierre*']==ValueMin)]"
   ]
  },
  {
   "cell_type": "code",
   "execution_count": 10,
   "id": "71715180",
   "metadata": {},
   "outputs": [
    {
     "name": "stdout",
     "output_type": "stream",
     "text": [
      "Día y valor en el cual el Cierre es el máximo\n"
     ]
    },
    {
     "data": {
      "text/html": [
       "<div>\n",
       "<style scoped>\n",
       "    .dataframe tbody tr th:only-of-type {\n",
       "        vertical-align: middle;\n",
       "    }\n",
       "\n",
       "    .dataframe tbody tr th {\n",
       "        vertical-align: top;\n",
       "    }\n",
       "\n",
       "    .dataframe thead th {\n",
       "        text-align: right;\n",
       "    }\n",
       "</style>\n",
       "<table border=\"1\" class=\"dataframe\">\n",
       "  <thead>\n",
       "    <tr style=\"text-align: right;\">\n",
       "      <th></th>\n",
       "      <th>Fecha</th>\n",
       "      <th>Cierre*</th>\n",
       "    </tr>\n",
       "  </thead>\n",
       "  <tbody>\n",
       "    <tr>\n",
       "      <th>81</th>\n",
       "      <td>31 may 2022</td>\n",
       "      <td>53200.0</td>\n",
       "    </tr>\n",
       "  </tbody>\n",
       "</table>\n",
       "</div>"
      ],
      "text/plain": [
       "          Fecha  Cierre*\n",
       "81  31 may 2022  53200.0"
      ]
     },
     "execution_count": 10,
     "metadata": {},
     "output_type": "execute_result"
    }
   ],
   "source": [
    "print('Día y valor en el cual el Cierre es el máximo')\n",
    "df2.head()"
   ]
  },
  {
   "cell_type": "code",
   "execution_count": 11,
   "id": "a0ab32c6",
   "metadata": {},
   "outputs": [
    {
     "name": "stdout",
     "output_type": "stream",
     "text": [
      "Día y valor en el cual el Cierre es el mínimo\n"
     ]
    },
    {
     "data": {
      "text/html": [
       "<div>\n",
       "<style scoped>\n",
       "    .dataframe tbody tr th:only-of-type {\n",
       "        vertical-align: middle;\n",
       "    }\n",
       "\n",
       "    .dataframe tbody tr th {\n",
       "        vertical-align: top;\n",
       "    }\n",
       "\n",
       "    .dataframe thead th {\n",
       "        text-align: right;\n",
       "    }\n",
       "</style>\n",
       "<table border=\"1\" class=\"dataframe\">\n",
       "  <thead>\n",
       "    <tr style=\"text-align: right;\">\n",
       "      <th></th>\n",
       "      <th>Fecha</th>\n",
       "      <th>Cierre*</th>\n",
       "    </tr>\n",
       "  </thead>\n",
       "  <tbody>\n",
       "    <tr>\n",
       "      <th>0</th>\n",
       "      <td>23 sept 2022</td>\n",
       "      <td>35100.0</td>\n",
       "    </tr>\n",
       "  </tbody>\n",
       "</table>\n",
       "</div>"
      ],
      "text/plain": [
       "          Fecha  Cierre*\n",
       "0  23 sept 2022  35100.0"
      ]
     },
     "execution_count": 11,
     "metadata": {},
     "output_type": "execute_result"
    }
   ],
   "source": [
    "print('Día y valor en el cual el Cierre es el mínimo')\n",
    "df3.head()"
   ]
  },
  {
   "cell_type": "code",
   "execution_count": null,
   "id": "10f7b5bc",
   "metadata": {},
   "outputs": [],
   "source": []
  }
 ],
 "metadata": {
  "kernelspec": {
   "display_name": "Python 3 (ipykernel)",
   "language": "python",
   "name": "python3"
  },
  "language_info": {
   "codemirror_mode": {
    "name": "ipython",
    "version": 3
   },
   "file_extension": ".py",
   "mimetype": "text/x-python",
   "name": "python",
   "nbconvert_exporter": "python",
   "pygments_lexer": "ipython3",
   "version": "3.9.12"
  }
 },
 "nbformat": 4,
 "nbformat_minor": 5
}
